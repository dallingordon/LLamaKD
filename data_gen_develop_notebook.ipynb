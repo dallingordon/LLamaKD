{
 "cells": [
  {
   "cell_type": "code",
   "execution_count": 6,
   "id": "9175f896",
   "metadata": {},
   "outputs": [],
   "source": [
    "import random\n",
    "import torch\n",
    "def random_float_tensor(a = 0.0 \n",
    "                        ,b = 1.0\n",
    "                        ,max_percent = 0.5 #how often to do a full input tensor\n",
    "                        ,max_len=512\n",
    "                       ,vocab_size =32_000 ):\n",
    "        # Replace with your desired lower bound\n",
    "         # Replace with your desired upper bound\n",
    "\n",
    "    #random_int = random.randint(1, max_len)  #this is the random_input lenght\n",
    "    random_int = 0\n",
    "    if random.random() < max_percent:\n",
    "        random_int = max_len\n",
    "    else:\n",
    "        random_int = random.randint(1, max_len - 1)\n",
    "    # Generate the random tensor\n",
    "    random_tensor = torch.FloatTensor(1, random_int,vocab_size ).uniform_(a, b).to(torch.float16).to(\"cpu\")\n",
    "    #print(random_tensor.device)\n",
    "    zero_tensor = torch.zeros(1, max_len - random_int, vocab_size, dtype=torch.float16).to(\"cpu\") #this stays on the cpu for saving.\n",
    "    #print(zero_tensor.device)\n",
    "    cpu_tensor = torch.cat((random_tensor, zero_tensor), dim=1)\n",
    "    \n",
    "    return random_tensor,cpu_tensor "
   ]
  },
  {
   "cell_type": "code",
   "execution_count": 8,
   "id": "f7cd5b42",
   "metadata": {},
   "outputs": [],
   "source": [
    "a,b = random_float_tensor(0.0,1.0,0.5,10,20)"
   ]
  },
  {
   "cell_type": "code",
   "execution_count": 9,
   "id": "78df7d68",
   "metadata": {},
   "outputs": [
    {
     "data": {
      "text/plain": [
       "(torch.Size([1, 6, 20]), torch.Size([1, 10, 20]))"
      ]
     },
     "execution_count": 9,
     "metadata": {},
     "output_type": "execute_result"
    }
   ],
   "source": [
    "a.shape, b.shape"
   ]
  },
  {
   "cell_type": "code",
   "execution_count": 11,
   "id": "21a9fc2f",
   "metadata": {},
   "outputs": [
    {
     "data": {
      "text/plain": [
       "tensor([[[0.8125, 0.2683, 0.9121, 0.7773, 0.7974, 0.5352, 0.7075, 0.4824,\n",
       "          0.2678, 0.5752, 0.3904, 0.4619, 0.7549, 0.5684, 0.3208, 0.8735,\n",
       "          0.6963, 0.7588, 0.0329, 0.7090],\n",
       "         [0.6377, 0.5791, 0.0908, 0.0591, 0.0583, 0.9370, 0.7251, 0.2812,\n",
       "          0.9531, 0.3967, 0.4797, 0.1401, 0.8408, 0.8862, 0.0632, 0.5332,\n",
       "          0.8062, 0.5679, 0.2418, 0.0055],\n",
       "         [0.0835, 0.9453, 0.0886, 0.6743, 0.5439, 0.1042, 0.0610, 0.6226,\n",
       "          0.2744, 0.0502, 0.2983, 0.6826, 0.6655, 0.4602, 0.2394, 0.4163,\n",
       "          0.2620, 0.9126, 0.9507, 0.0446],\n",
       "         [0.2273, 0.9121, 0.1696, 0.7446, 0.7183, 0.5327, 0.7319, 0.1346,\n",
       "          0.3140, 0.6885, 0.7344, 0.0519, 0.0281, 0.3911, 0.1915, 0.4314,\n",
       "          0.3960, 0.3191, 0.7427, 0.8701],\n",
       "         [0.9497, 0.5112, 0.8086, 0.0352, 0.7412, 0.9629, 0.2349, 0.9033,\n",
       "          0.1350, 0.9722, 0.6240, 0.5454, 0.7153, 0.9209, 0.5928, 0.5654,\n",
       "          0.5571, 0.9229, 0.9297, 0.6719],\n",
       "         [0.7871, 0.4814, 0.4641, 0.3052, 0.9214, 0.1603, 0.0100, 0.7222,\n",
       "          0.7290, 0.0997, 0.3416, 0.9014, 0.6543, 0.4524, 0.9702, 0.7378,\n",
       "          0.2776, 0.0449, 0.2002, 0.9404],\n",
       "         [0.0000, 0.0000, 0.0000, 0.0000, 0.0000, 0.0000, 0.0000, 0.0000,\n",
       "          0.0000, 0.0000, 0.0000, 0.0000, 0.0000, 0.0000, 0.0000, 0.0000,\n",
       "          0.0000, 0.0000, 0.0000, 0.0000],\n",
       "         [0.0000, 0.0000, 0.0000, 0.0000, 0.0000, 0.0000, 0.0000, 0.0000,\n",
       "          0.0000, 0.0000, 0.0000, 0.0000, 0.0000, 0.0000, 0.0000, 0.0000,\n",
       "          0.0000, 0.0000, 0.0000, 0.0000],\n",
       "         [0.0000, 0.0000, 0.0000, 0.0000, 0.0000, 0.0000, 0.0000, 0.0000,\n",
       "          0.0000, 0.0000, 0.0000, 0.0000, 0.0000, 0.0000, 0.0000, 0.0000,\n",
       "          0.0000, 0.0000, 0.0000, 0.0000],\n",
       "         [0.0000, 0.0000, 0.0000, 0.0000, 0.0000, 0.0000, 0.0000, 0.0000,\n",
       "          0.0000, 0.0000, 0.0000, 0.0000, 0.0000, 0.0000, 0.0000, 0.0000,\n",
       "          0.0000, 0.0000, 0.0000, 0.0000]]], dtype=torch.float16)"
      ]
     },
     "execution_count": 11,
     "metadata": {},
     "output_type": "execute_result"
    }
   ],
   "source": [
    "b"
   ]
  },
  {
   "cell_type": "code",
   "execution_count": 88,
   "id": "980c0a45",
   "metadata": {},
   "outputs": [],
   "source": [
    "def random_binary_tensor(alpha=0.0\n",
    "                         , beta=1.0\n",
    "                         , max_percent=0.5\n",
    "                         , max_len=512\n",
    "                         , vocab_size=32_000):\n",
    "    assert 0 <= alpha <= 1 and 0 <= beta <= 1 and beta > alpha, \"Invalid alpha and beta values\"\n",
    "\n",
    "    random_int = 0\n",
    "    if random.random() < max_percent:\n",
    "        random_int = max_len\n",
    "    else:\n",
    "        random_int = random.randint(1, max_len - 1)\n",
    "\n",
    "    num_ones = int(random.uniform(alpha, beta) * max_len * vocab_size)\n",
    "    print(num_ones)\n",
    "    random_tensor = torch.zeros(1, random_int, vocab_size, dtype=torch.float16).to(\"cpu\")\n",
    "    first_dim_idx = random.choices(range(max_len),k=num_ones)\n",
    "    second_dim_idx = random.choices(range(vocab_size),k=num_ones)\n",
    "    random_tensor[0,first_dim_idx,second_dim_idx] = 1.0\n",
    "    #not perfect but I don't care. eh, lets call it an extra degree of randomness lol\n",
    "    zero_tensor = torch.zeros(1, max_len - random_int, vocab_size, dtype=torch.float16).to(\"cpu\")\n",
    "    cpu_tensor = torch.cat((random_tensor, zero_tensor), dim=1)\n",
    "\n",
    "    return random_tensor, cpu_tensor"
   ]
  },
  {
   "cell_type": "code",
   "execution_count": 89,
   "id": "c0ae9266",
   "metadata": {},
   "outputs": [
    {
     "name": "stdout",
     "output_type": "stream",
     "text": [
      "60\n"
     ]
    }
   ],
   "source": [
    "alpha = 0.1  # Lower bound of ones percentage\n",
    "beta = 0.4   # Upper bound of ones percentage\n",
    "random_tensor, cpu_tensor = random_binary_tensor(alpha, beta, max_percent=0.5, max_len=10, vocab_size=20)"
   ]
  },
  {
   "cell_type": "code",
   "execution_count": 90,
   "id": "bbea237b",
   "metadata": {},
   "outputs": [
    {
     "name": "stdout",
     "output_type": "stream",
     "text": [
      "torch.Size([1, 10, 20]) torch.Size([1, 10, 20])\n"
     ]
    },
    {
     "data": {
      "text/plain": [
       "(tensor([[[0., 0., 0., 0., 0., 0., 1., 1., 0., 0., 0., 0., 1., 1., 1., 1., 1.,\n",
       "           0., 1., 0.],\n",
       "          [0., 1., 0., 0., 0., 1., 0., 0., 0., 0., 1., 1., 0., 0., 0., 1., 0.,\n",
       "           1., 0., 0.],\n",
       "          [0., 0., 0., 0., 0., 1., 0., 0., 0., 1., 0., 0., 1., 0., 0., 0., 0.,\n",
       "           0., 0., 0.],\n",
       "          [1., 0., 0., 0., 1., 0., 1., 0., 0., 1., 1., 1., 0., 0., 0., 1., 0.,\n",
       "           0., 0., 0.],\n",
       "          [0., 1., 0., 0., 1., 0., 0., 0., 1., 0., 0., 0., 0., 1., 0., 0., 0.,\n",
       "           0., 1., 0.],\n",
       "          [0., 1., 0., 0., 0., 0., 0., 0., 0., 0., 0., 1., 0., 1., 0., 0., 0.,\n",
       "           0., 0., 0.],\n",
       "          [1., 0., 0., 0., 1., 0., 0., 0., 0., 0., 0., 0., 0., 1., 0., 0., 0.,\n",
       "           0., 0., 0.],\n",
       "          [0., 0., 1., 0., 1., 0., 0., 0., 0., 0., 1., 0., 1., 0., 0., 0., 0.,\n",
       "           0., 1., 1.],\n",
       "          [0., 0., 0., 0., 0., 0., 1., 0., 0., 0., 1., 0., 1., 0., 1., 1., 0.,\n",
       "           0., 0., 0.],\n",
       "          [0., 0., 0., 1., 1., 1., 0., 1., 0., 0., 0., 0., 0., 0., 0., 0., 0.,\n",
       "           1., 0., 0.]]], dtype=torch.float16),\n",
       " tensor([[[0., 0., 0., 0., 0., 0., 1., 1., 0., 0., 0., 0., 1., 1., 1., 1., 1.,\n",
       "           0., 1., 0.],\n",
       "          [0., 1., 0., 0., 0., 1., 0., 0., 0., 0., 1., 1., 0., 0., 0., 1., 0.,\n",
       "           1., 0., 0.],\n",
       "          [0., 0., 0., 0., 0., 1., 0., 0., 0., 1., 0., 0., 1., 0., 0., 0., 0.,\n",
       "           0., 0., 0.],\n",
       "          [1., 0., 0., 0., 1., 0., 1., 0., 0., 1., 1., 1., 0., 0., 0., 1., 0.,\n",
       "           0., 0., 0.],\n",
       "          [0., 1., 0., 0., 1., 0., 0., 0., 1., 0., 0., 0., 0., 1., 0., 0., 0.,\n",
       "           0., 1., 0.],\n",
       "          [0., 1., 0., 0., 0., 0., 0., 0., 0., 0., 0., 1., 0., 1., 0., 0., 0.,\n",
       "           0., 0., 0.],\n",
       "          [1., 0., 0., 0., 1., 0., 0., 0., 0., 0., 0., 0., 0., 1., 0., 0., 0.,\n",
       "           0., 0., 0.],\n",
       "          [0., 0., 1., 0., 1., 0., 0., 0., 0., 0., 1., 0., 1., 0., 0., 0., 0.,\n",
       "           0., 1., 1.],\n",
       "          [0., 0., 0., 0., 0., 0., 1., 0., 0., 0., 1., 0., 1., 0., 1., 1., 0.,\n",
       "           0., 0., 0.],\n",
       "          [0., 0., 0., 1., 1., 1., 0., 1., 0., 0., 0., 0., 0., 0., 0., 0., 0.,\n",
       "           1., 0., 0.]]], dtype=torch.float16))"
      ]
     },
     "execution_count": 90,
     "metadata": {},
     "output_type": "execute_result"
    }
   ],
   "source": [
    "print(random_tensor.shape,cpu_tensor.shape)\n",
    "random_tensor,cpu_tensor"
   ]
  },
  {
   "cell_type": "code",
   "execution_count": 87,
   "id": "ffc3ae9f",
   "metadata": {},
   "outputs": [
    {
     "data": {
      "text/plain": [
       "[0, 0, 5, 7, 4, 9, 7, 5, 2, 6]"
      ]
     },
     "execution_count": 87,
     "metadata": {},
     "output_type": "execute_result"
    }
   ],
   "source": [
    "random.choices(range(10),k=10)"
   ]
  },
  {
   "cell_type": "code",
   "execution_count": null,
   "id": "170c3d54",
   "metadata": {},
   "outputs": [],
   "source": []
  }
 ],
 "metadata": {
  "kernelspec": {
   "display_name": "Python 3 (ipykernel)",
   "language": "python",
   "name": "python3"
  },
  "language_info": {
   "codemirror_mode": {
    "name": "ipython",
    "version": 3
   },
   "file_extension": ".py",
   "mimetype": "text/x-python",
   "name": "python",
   "nbconvert_exporter": "python",
   "pygments_lexer": "ipython3",
   "version": "3.10.12"
  }
 },
 "nbformat": 4,
 "nbformat_minor": 5
}
