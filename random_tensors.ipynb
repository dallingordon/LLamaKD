{
 "cells": [
  {
   "cell_type": "code",
   "execution_count": 1,
   "id": "54c81dc7",
   "metadata": {},
   "outputs": [],
   "source": [
    "import torch"
   ]
  },
  {
   "cell_type": "code",
   "execution_count": 25,
   "id": "398cd097",
   "metadata": {},
   "outputs": [
    {
     "name": "stdout",
     "output_type": "stream",
     "text": [
      "torch.Size([1, 5, 10])\n",
      "tensor([[[0.0538, 0.0538, 0.0538, 0.0538, 0.1462, 0.1462, 0.1462, 0.0538,\n",
      "          0.1462, 0.1462],\n",
      "         [0.0744, 0.0744, 0.0744, 0.2023, 0.0744, 0.0744, 0.0744, 0.0744,\n",
      "          0.2023, 0.0744],\n",
      "         [0.0492, 0.1338, 0.1338, 0.0492, 0.1338, 0.1338, 0.1338, 0.0492,\n",
      "          0.0492, 0.1338],\n",
      "         [0.0538, 0.1462, 0.1462, 0.1462, 0.0538, 0.0538, 0.0538, 0.0538,\n",
      "          0.1462, 0.1462],\n",
      "         [0.1145, 0.1145, 0.1145, 0.1145, 0.1145, 0.0421, 0.0421, 0.1145,\n",
      "          0.1145, 0.1145]]])\n"
     ]
    }
   ],
   "source": [
    "tensor = torch.zeros(1, 5, 10)\n",
    "\n",
    "probability = 0.5\n",
    "\n",
    "random_mask = torch.rand(tensor.shape)\n",
    "\n",
    "tensor[random_mask < probability] = 1\n",
    "\n",
    "print(tensor.shape)\n",
    "print(torch.softmax(tensor, dim = -1))"
   ]
  },
  {
   "cell_type": "code",
   "execution_count": 29,
   "id": "4338f53f",
   "metadata": {},
   "outputs": [
    {
     "name": "stdout",
     "output_type": "stream",
     "text": [
      "tensor([[[0., 0., 0., 1., 0.],\n",
      "         [1., 0., 0., 0., 0.],\n",
      "         [0., 0., 1., 0., 0.],\n",
      "         [1., 0., 0., 0., 0.]]])\n"
     ]
    }
   ],
   "source": [
    "import random\n",
    "tensor = torch.zeros(1, 4, 5)\n",
    "\n",
    "# Loop through each sequence in the batch and randomly select an index to set to 1\n",
    "for batch_index in range(tensor.shape[1]):\n",
    "    index_to_set_1 = random.randint(0, 4)  # Generate a random index between 0 and 19\n",
    "    tensor[0, batch_index, index_to_set_1] = 1\n",
    "\n",
    "# Print the modified tensor\n",
    "print(tensor)"
   ]
  },
  {
   "cell_type": "code",
   "execution_count": null,
   "id": "07050474",
   "metadata": {},
   "outputs": [],
   "source": []
  }
 ],
 "metadata": {
  "kernelspec": {
   "display_name": "Python 3 (ipykernel)",
   "language": "python",
   "name": "python3"
  },
  "language_info": {
   "codemirror_mode": {
    "name": "ipython",
    "version": 3
   },
   "file_extension": ".py",
   "mimetype": "text/x-python",
   "name": "python",
   "nbconvert_exporter": "python",
   "pygments_lexer": "ipython3",
   "version": "3.10.12"
  }
 },
 "nbformat": 4,
 "nbformat_minor": 5
}
